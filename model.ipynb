{
 "cells": [
  {
   "cell_type": "markdown",
   "metadata": {},
   "source": [
    "# Behavior Clonning Project\n"
   ]
  },
  {
   "cell_type": "markdown",
   "metadata": {},
   "source": [
    "## Load data"
   ]
  },
  {
   "cell_type": "code",
   "execution_count": 1,
   "metadata": {},
   "outputs": [
    {
     "name": "stdout",
     "output_type": "stream",
     "text": [
      "./my_data/flipped/IMG/\n",
      "number of samples:  (21300, 7)\n"
     ]
    }
   ],
   "source": [
    "import os\n",
    "import csv\n",
    "import numpy as np\n",
    "import shutil\n",
    "#Remove flipped files folder\n",
    "path_prefix = './my_data/'\n",
    "try:\n",
    "    shutil.rmtree(path_prefix + 'flipped/IMG/')\n",
    "except:\n",
    "    print(\"no folder for flipped images was found\")\n",
    "\n",
    "try: \n",
    "    print(path_prefix + 'flipped/IMG/')\n",
    "    os.mkdir(path_prefix + 'flipped/IMG/')\n",
    "    \n",
    "except OSError:  \n",
    "    print (\"Creation of the directory %s failed\" % path_prefix + 'flipped/IMG/')\n",
    "\n",
    "\n",
    "samples = []\n",
    "with open(path_prefix + 'driving_log.csv') as csvfile:\n",
    "    reader = csv.reader(csvfile)\n",
    "    for line in reader:\n",
    "        line[0] = line[0].strip().replace('/home/kiwibot/jdgalviss/Self_driving_cars_tools/15Project_BehavioralCloning/CarND-Behavioral-Cloning-P3/my_data/','')\n",
    "        line[1] = line[1].strip().replace('/home/kiwibot/jdgalviss/Self_driving_cars_tools/15Project_BehavioralCloning/CarND-Behavioral-Cloning-P3/my_data/','')\n",
    "        line[2] = line[2].strip().replace('/home/kiwibot/jdgalviss/Self_driving_cars_tools/15Project_BehavioralCloning/CarND-Behavioral-Cloning-P3/my_data/','')\n",
    "        samples.append(line)\n",
    "samples.pop(0)\n",
    "print(\"number of samples: \", np.array(samples).shape)"
   ]
  },
  {
   "cell_type": "markdown",
   "metadata": {},
   "source": [
    "### Generate flipped images"
   ]
  },
  {
   "cell_type": "code",
   "execution_count": 2,
   "metadata": {},
   "outputs": [
    {
     "name": "stdout",
     "output_type": "stream",
     "text": [
      "IMG/center_2019_03_29_01_31_48_934.jpg\n"
     ]
    },
    {
     "data": {
      "text/plain": [
       "<Figure size 640x480 with 1 Axes>"
      ]
     },
     "metadata": {},
     "output_type": "display_data"
    },
    {
     "name": "stdout",
     "output_type": "stream",
     "text": [
      "(160, 320, 3)\n"
     ]
    },
    {
     "data": {
      "text/plain": [
       "<Figure size 640x480 with 1 Axes>"
      ]
     },
     "metadata": {},
     "output_type": "display_data"
    },
    {
     "name": "stdout",
     "output_type": "stream",
     "text": [
      "./my_data/IMG_flipped/IMG/center_2019_03_29_01_31_48_934.jpg\n"
     ]
    }
   ],
   "source": [
    "import numpy as np\n",
    "import matplotlib.pyplot as plt\n",
    "import matplotlib.image as mpimg\n",
    "import cv2\n",
    "\n",
    "#path_prefix = 'data/data/'\n",
    "print(samples[0][0])\n",
    "img=mpimg.imread(path_prefix + samples[0][0])\n",
    "plt.imshow(img)\n",
    "plt.show()\n",
    "\n",
    "image_flipped = np.fliplr(img)\n",
    "plt.imshow(image_flipped)\n",
    "print(image_flipped.shape)\n",
    "plt.show()\n",
    "\n",
    "print(path_prefix + 'IMG_flipped/' + samples[0][0])\n",
    "#cv2.imwrite(path_prefix + 'flipped/' + samples[0][1],cv2.cvtColor(image_flipped, cv2.COLOR_BGR2RGB) )\n",
    "\n",
    "for sample in samples:\n",
    "    img=mpimg.imread(path_prefix + sample[0])\n",
    "    image_flipped = np.fliplr(img)\n",
    "    cv2.imwrite(path_prefix + 'flipped/' + sample[0], cv2.cvtColor(image_flipped, cv2.COLOR_BGR2RGB))\n",
    "\n"
   ]
  },
  {
   "cell_type": "markdown",
   "metadata": {},
   "source": [
    "### Divide data between train and test samples"
   ]
  },
  {
   "cell_type": "code",
   "execution_count": 3,
   "metadata": {},
   "outputs": [
    {
     "name": "stdout",
     "output_type": "stream",
     "text": [
      "training samples:  (17040, 7)\n",
      "validation samples:  (4260, 7)\n"
     ]
    }
   ],
   "source": [
    "from sklearn.model_selection import train_test_split\n",
    "train_samples, validation_samples = train_test_split(samples, test_size=0.2)\n",
    "print(\"training samples: \", np.array(train_samples).shape)\n",
    "print(\"validation samples: \", np.array(validation_samples).shape)"
   ]
  },
  {
   "cell_type": "markdown",
   "metadata": {},
   "source": [
    "## Preprocess data"
   ]
  },
  {
   "cell_type": "markdown",
   "metadata": {},
   "source": [
    "### Augment Data by using left and right images"
   ]
  },
  {
   "cell_type": "code",
   "execution_count": 4,
   "metadata": {},
   "outputs": [
    {
     "name": "stdout",
     "output_type": "stream",
     "text": [
      "number of samples:  (51120,)\n",
      "number of samples:  (51120,)\n"
     ]
    }
   ],
   "source": [
    "steering_correction_factor = 0.1\n",
    "img_paths_train = []\n",
    "angles_train = []\n",
    "\n",
    "for sample in train_samples:\n",
    "    steering_center = float(sample[3])\n",
    "    \n",
    "    # create adjusted steering measurements for the side camera images\n",
    "    steering_left = steering_center + steering_correction_factor\n",
    "    steering_right = steering_center - steering_correction_factor\n",
    "    \n",
    "    # define center, right and left paths\n",
    "    img_paths_train.append(path_prefix + sample[0]) # center\n",
    "    img_paths_train.append(path_prefix + sample[1]) # left\n",
    "    img_paths_train.append(path_prefix + sample[2]) # right\n",
    "    angles_train.append(steering_center)\n",
    "    angles_train.append(steering_left)\n",
    "    angles_train.append(steering_right)\n",
    "    \n",
    "print(\"number of samples: \", np.array(img_paths_train).shape)\n",
    "print(\"number of samples: \", np.array(angles_train).shape)"
   ]
  },
  {
   "cell_type": "markdown",
   "metadata": {},
   "source": [
    "### Augment data using flipped images"
   ]
  },
  {
   "cell_type": "code",
   "execution_count": 5,
   "metadata": {},
   "outputs": [
    {
     "name": "stdout",
     "output_type": "stream",
     "text": [
      "number of samples:  (68160,)\n",
      "number of samples:  (68160,)\n",
      "./my_data/IMG/center_2019_03_29_01_47_13_526.jpg\n"
     ]
    }
   ],
   "source": [
    "for sample in train_samples:\n",
    "    img_paths_train.append(path_prefix+'flipped/' + sample[0].strip())\n",
    "    angles_train.append(-float(sample[3]))\n",
    "    #print(sample[1])\n",
    "print(\"number of samples: \", np.array(img_paths_train).shape)\n",
    "print(\"number of samples: \", np.array(angles_train).shape)\n",
    "print(img_paths_train[0])"
   ]
  },
  {
   "cell_type": "markdown",
   "metadata": {},
   "source": [
    "### Put Validation data into img_path and angles lists"
   ]
  },
  {
   "cell_type": "code",
   "execution_count": 6,
   "metadata": {},
   "outputs": [
    {
     "name": "stdout",
     "output_type": "stream",
     "text": [
      "number of samples:  (4260,)\n",
      "number of samples:  (4260,)\n"
     ]
    }
   ],
   "source": [
    "# Validation imgs - create vectors\n",
    "img_paths_validation = []\n",
    "angles_validation = []\n",
    "for sample in validation_samples:\n",
    "    img_paths_validation.append(path_prefix + sample[0].strip())\n",
    "    angles_validation.append(float(sample[3]))\n",
    "    \n",
    "print(\"number of samples: \", np.array(img_paths_validation).shape)\n",
    "print(\"number of samples: \", np.array(angles_validation).shape)"
   ]
  },
  {
   "cell_type": "markdown",
   "metadata": {},
   "source": [
    "### Generator for image processing"
   ]
  },
  {
   "cell_type": "code",
   "execution_count": 7,
   "metadata": {},
   "outputs": [],
   "source": [
    "import sklearn\n",
    "from sklearn.utils import shuffle\n",
    "def generator(images_path, angles, batch_size=32):\n",
    "    num_samples = len(images_path)\n",
    "    while 1: # Loop forever so the generator never terminates\n",
    "        images_path, angles = shuffle(images_path, angles)\n",
    "        for offset in range(0, num_samples, batch_size):\n",
    "            batch_images = images_path[offset:offset+batch_size]\n",
    "            batch_angles = angles[offset:offset+batch_size]\n",
    "            \n",
    "            images = []\n",
    "            angles_batch = []\n",
    "            for batch_image, angle in zip(batch_images, batch_angles):\n",
    "                center_image = mpimg.imread(batch_image)\n",
    "                center_angle = float(angle)\n",
    "                images.append(center_image)\n",
    "                angles_batch.append(center_angle)\n",
    "\n",
    "            # trim image to only see section with road\n",
    "            X_train = np.array(images)\n",
    "            y_train = np.array(angles_batch)\n",
    "            yield sklearn.utils.shuffle(X_train, y_train)\n",
    "            \n",
    "# Set our batch size\n",
    "batch_size=32\n",
    "\n",
    "# compile and train the model using the generator function\n",
    "train_generator = generator(img_paths_train, angles_train, batch_size=batch_size)\n",
    "validation_generator = generator(img_paths_validation, angles_validation, batch_size=batch_size)"
   ]
  },
  {
   "cell_type": "markdown",
   "metadata": {},
   "source": [
    "## Model architecture"
   ]
  },
  {
   "cell_type": "code",
   "execution_count": 8,
   "metadata": {},
   "outputs": [],
   "source": [
    "from tensorflow.keras.models import Sequential, Model\n",
    "from tensorflow.keras.layers import BatchNormalization, Lambda, Cropping2D, MaxPooling2D, Conv2D, Dense, Activation, Flatten, Dropout\n",
    "\n",
    "ch, row, col = 3, 75, 320  # Trimmed image format\n",
    "keep_prob = 0.5\n",
    "def pilotNet(train = True, keep_prob = 0.5):\n",
    "    model = Sequential()\n",
    "    #------------Preprocess incoming data------------\n",
    "    # Crop Image\n",
    "    model.add(Cropping2D(cropping=((65,20), (0,0)), input_shape=(160,320,3)))\n",
    "    #centered around zero with small standard deviation \n",
    "    model.add(Lambda(lambda x: x/127.5 - 1.,\n",
    "            input_shape=(ch, row, col),\n",
    "            output_shape=(ch, row, col)))\n",
    "    #--------------Model Architecture: PilotNet-------------------\n",
    "    model.add(Conv2D(32, (3, 3), input_shape=(32, 32, 3)))\n",
    "\n",
    "    model.add(Conv2D(24, (5, 5), strides = 2))\n",
    "    model.add(BatchNormalization())\n",
    "    model.add(Activation('relu'))\n",
    "    model.add(Dropout(rate = keep_prob))\n",
    "    \n",
    "    model.add(Conv2D(36, (5, 5), strides = 2))\n",
    "    model.add(BatchNormalization())\n",
    "    model.add(Activation('relu'))\n",
    "    model.add(Dropout(rate = keep_prob))\n",
    "\n",
    "    model.add(Conv2D(48, (5, 5), strides = 2))\n",
    "    model.add(BatchNormalization())\n",
    "    model.add(Activation('relu'))\n",
    "    model.add(Dropout(rate = keep_prob))\n",
    "\n",
    "    model.add(Conv2D(64, (3, 3)))\n",
    "    model.add(BatchNormalization())\n",
    "    model.add(Activation('relu'))\n",
    "    model.add(Dropout(rate = keep_prob))\n",
    "\n",
    "    model.add(Conv2D(64, (3, 3)))\n",
    "    model.add(BatchNormalization())\n",
    "    model.add(Activation('relu'))\n",
    "    model.add(Dropout(rate = keep_prob))\n",
    "    \n",
    "    model.add(Flatten())\n",
    "    model.add(Dense(200))\n",
    "    model.add(BatchNormalization())\n",
    "    model.add(Activation('relu'))\n",
    "    model.add(Dropout(rate = keep_prob))\n",
    "    model.add(Dense(1))\n",
    "    return model\n",
    "model = pilotNet()"
   ]
  },
  {
   "cell_type": "markdown",
   "metadata": {},
   "source": [
    "### Train model"
   ]
  },
  {
   "cell_type": "code",
   "execution_count": 9,
   "metadata": {},
   "outputs": [
    {
     "name": "stdout",
     "output_type": "stream",
     "text": [
      "Epoch 1/3\n",
      " - 203s - loss: 0.1244 - val_loss: 0.0096\n",
      "Epoch 2/3\n",
      " - 211s - loss: 0.0122 - val_loss: 0.0053\n",
      "Epoch 3/3\n",
      " - 212s - loss: 0.0091 - val_loss: 0.0050\n"
     ]
    }
   ],
   "source": [
    "from math import ceil\n",
    "model.compile(loss='mse', optimizer='adam')\n",
    "history = model.fit_generator(train_generator,\n",
    "            steps_per_epoch=ceil(len(img_paths_train)/batch_size),\n",
    "            validation_data=validation_generator,\n",
    "            validation_steps=ceil(len(img_paths_validation)/batch_size),\n",
    "            epochs=3, verbose=2)"
   ]
  },
  {
   "cell_type": "markdown",
   "metadata": {},
   "source": [
    "### Save model "
   ]
  },
  {
   "cell_type": "code",
   "execution_count": 11,
   "metadata": {},
   "outputs": [],
   "source": [
    "model.save('model_mine.h5')"
   ]
  },
  {
   "cell_type": "code",
   "execution_count": null,
   "metadata": {},
   "outputs": [],
   "source": []
  }
 ],
 "metadata": {
  "kernelspec": {
   "display_name": "Python 3",
   "language": "python",
   "name": "python3"
  },
  "language_info": {
   "codemirror_mode": {
    "name": "ipython",
    "version": 3
   },
   "file_extension": ".py",
   "mimetype": "text/x-python",
   "name": "python",
   "nbconvert_exporter": "python",
   "pygments_lexer": "ipython3",
   "version": "3.5.2"
  }
 },
 "nbformat": 4,
 "nbformat_minor": 2
}
